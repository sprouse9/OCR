{
  "nbformat": 4,
  "nbformat_minor": 0,
  "metadata": {
    "colab": {
      "provenance": [],
      "authorship_tag": "ABX9TyMI2AjRD/N+0uHJVm5YFfEU",
      "include_colab_link": true
    },
    "kernelspec": {
      "name": "python3",
      "display_name": "Python 3"
    },
    "language_info": {
      "name": "python"
    }
  },
  "cells": [
    {
      "cell_type": "markdown",
      "metadata": {
        "id": "view-in-github",
        "colab_type": "text"
      },
      "source": [
        "<a href=\"https://colab.research.google.com/github/sprouse9/OCR/blob/main/InsuranceApplicationOCR.ipynb\" target=\"_parent\"><img src=\"https://colab.research.google.com/assets/colab-badge.svg\" alt=\"Open In Colab\"/></a>"
      ]
    },
    {
      "cell_type": "markdown",
      "source": [],
      "metadata": {
        "id": "BxShZT2NaWgP"
      }
    },
    {
      "cell_type": "code",
      "source": [
        "!apt-get install -y tesseract-ocr\n",
        "!pip install pytesseract Pillow pdf2image\n",
        "\n",
        "from PIL import Image\n",
        "import pytesseract\n",
        "import re\n",
        "import requests\n",
        "from io import BytesIO\n"
      ],
      "metadata": {
        "colab": {
          "base_uri": "https://localhost:8080/"
        },
        "id": "EC2-p1fpbM4Z",
        "outputId": "b695ea0f-1b7a-43c8-a564-f9ee10766e68"
      },
      "execution_count": 11,
      "outputs": [
        {
          "output_type": "stream",
          "name": "stdout",
          "text": [
            "Reading package lists... Done\n",
            "Building dependency tree... Done\n",
            "Reading state information... Done\n",
            "tesseract-ocr is already the newest version (4.1.1-2.1build1).\n",
            "0 upgraded, 0 newly installed, 0 to remove and 35 not upgraded.\n",
            "Requirement already satisfied: pytesseract in /usr/local/lib/python3.11/dist-packages (0.3.13)\n",
            "Requirement already satisfied: Pillow in /usr/local/lib/python3.11/dist-packages (11.2.1)\n",
            "Requirement already satisfied: pdf2image in /usr/local/lib/python3.11/dist-packages (1.17.0)\n",
            "Requirement already satisfied: packaging>=21.3 in /usr/local/lib/python3.11/dist-packages (from pytesseract) (24.2)\n"
          ]
        }
      ]
    },
    {
      "cell_type": "code",
      "metadata": {
        "colab": {
          "base_uri": "https://localhost:8080/"
        },
        "id": "af93b097",
        "outputId": "055366d8-f96d-4d9a-85fc-e0d847e5ca91"
      },
      "source": [
        "import os\n",
        "\n",
        "folder_path = \"/content/\"  # Replace with the path to your folder\n",
        "\n",
        "# check if we have documents present in /content\n",
        "has_files = any(os.path.isfile(os.path.join(folder_path, item)) for item in os.listdir(folder_path))\n",
        "\n",
        "\n",
        "if has_files:\n",
        "    print(f\"The folder '{folder_path}' contains documents (files).\")\n",
        "else:\n",
        "    print(f\"The folder '{folder_path}' does not contain any documents (files).\")\n",
        "\n"
      ],
      "execution_count": 12,
      "outputs": [
        {
          "output_type": "stream",
          "name": "stdout",
          "text": [
            "The folder '/content/' contains documents (files).\n"
          ]
        }
      ]
    },
    {
      "cell_type": "code",
      "source": [
        "# Step 1: Get image files in folder\n",
        "image_extensions = (\".png\", \".jpg\", \".jpeg\", \".tiff\", \".bmp\")\n",
        "image_files = [f for f in os.listdir(folder_path) if f.lower().endswith(image_extensions)]\n",
        "\n",
        "# Step 2: Check if any images exist\n",
        "if image_files:\n",
        "    print(f\"Found {len(image_files)} image file(s): {image_files}\")\n",
        "\n",
        "    # Step 3: Load first image\n",
        "    image_path = os.path.join(folder_path, image_files[0])\n",
        "    image = Image.open(image_path)\n",
        "\n",
        "    # Step 4: Perform OCR\n",
        "    text = pytesseract.image_to_string(image)\n",
        "\n",
        "    # Step 5: Check for date and signature\n",
        "    date_pattern = r'\\b(?:\\d{1,2}[/-]\\d{1,2}[/-]\\d{2,4}|(?:January|February|March|April|May|June|July|August|September|October|November|December)\\s+\\d{1,2},\\s+\\d{4})\\b'\n",
        "    signature_keywords = ['signature', 'signed by']\n",
        "\n",
        "    date_found = re.search(date_pattern, text, re.IGNORECASE)\n",
        "    signature_found = any(keyword in text.lower() for keyword in signature_keywords)\n",
        "\n",
        "    print(\"\\nExtracted Text:\\n\", text)\n",
        "    print(\"\\n✅ Date Found:\" if date_found else \"\\n❌ Date Missing:\", date_found.group(0) if date_found else \"\")\n",
        "    print(\"✅ Signature Mentioned\" if signature_found else \"❌ Signature Missing\")\n",
        "else:\n",
        "    print(f\"No image files found in '{folder_path}'.\")\n",
        "\n",
        "\n",
        "\n"
      ],
      "metadata": {
        "colab": {
          "base_uri": "https://localhost:8080/"
        },
        "id": "OSHN1Kvbarce",
        "outputId": "143569d7-0ef2-46b3-dc7b-3278b2673534"
      },
      "execution_count": 13,
      "outputs": [
        {
          "output_type": "stream",
          "name": "stdout",
          "text": [
            "Found 1 image file(s): ['LIfeApplication20230405-5593.png']\n",
            "\n",
            "Extracted Text:\n",
            " LIFE INSURANCE\n",
            "APPLICATION\n",
            "\n",
            "INSURED’S INFORMATION\n",
            "\n",
            "Full Name: John Doe\n",
            "Address: _!234 Elm St.\n",
            "\n",
            " \n",
            "\n",
            " \n",
            "\n",
            "Springfield , IL 62701\n",
            "Date of Birth: June 8, 1983\n",
            "\n",
            "BENEFICIARY DESIGNATION\n",
            "\n",
            "Primary Beneficiary: Jane Doe\n",
            "\n",
            " \n",
            "\n",
            " \n",
            "\n",
            "Signature: Gabe Dee\n",
            "Date: 06/08/2023\n",
            "\n",
            " \n",
            "\f\n",
            "\n",
            "✅ Date Found: June 8, 1983\n",
            "✅ Signature Mentioned\n"
          ]
        }
      ]
    },
    {
      "cell_type": "markdown",
      "source": [
        "As we can see the address field is not correct:\n",
        "\n",
        "**Address: _!234 Elm St.**\n",
        "\n",
        "Lets attempt to improve OCR accuracy by enhancing contrast and removing noise\n"
      ],
      "metadata": {
        "id": "FrqfFAsvcmyW"
      }
    },
    {
      "cell_type": "code",
      "source": [
        "import cv2\n",
        "import numpy as np\n",
        "\n",
        "# Load image via OpenCV\n",
        "img_cv = cv2.imread(image_path)\n",
        "\n",
        "# Convert to grayscale\n",
        "gray = cv2.cvtColor(img_cv, cv2.COLOR_BGR2GRAY)\n",
        "\n",
        "# Apply thresholding to clean up lines and underlines\n",
        "_, thresh = cv2.threshold(gray, 150, 255, cv2.THRESH_BINARY_INV)\n",
        "\n",
        "# Invert back (for Tesseract compatibility)\n",
        "preprocessed = 255 - thresh\n",
        "\n",
        "# Save and re-OCR\n",
        "cv2.imwrite(\"/content/cleaned.png\", preprocessed)\n",
        "image_cleaned = Image.open(\"/content/cleaned.png\")\n",
        "text = pytesseract.image_to_string(image_cleaned)\n",
        "print(text)\n"
      ],
      "metadata": {
        "colab": {
          "base_uri": "https://localhost:8080/"
        },
        "id": "oIhS-CK6cxsd",
        "outputId": "24129cba-e9d4-4b93-e195-9e65b20140fc"
      },
      "execution_count": 14,
      "outputs": [
        {
          "output_type": "stream",
          "name": "stdout",
          "text": [
            "LIFE INSURANCE\n",
            "APPLICATION\n",
            "\n",
            "INSURED’S INFORMATION\n",
            "\n",
            "FullName: John Doe\n",
            "Address: 1234 Elm St.\n",
            "\n",
            " \n",
            "\n",
            "Springfield , IL 62701\n",
            "Date of Birth: June 8, 1983\n",
            "\n",
            "BENEFICIARY DESIGNATION\n",
            "\n",
            "Primary Beneficiary: Jane Doe\n",
            "\n",
            " \n",
            "\n",
            "Signature: Gabe Dee\n",
            "Date: 06/08/2023\n",
            "\n",
            " \n",
            "\f\n"
          ]
        }
      ]
    },
    {
      "cell_type": "markdown",
      "source": [
        "As we can see the address field is properly scanned, however the signature name was not correctly translated to \"John Doe\".  \n",
        "This hits a real-world IDP pain point:\n",
        "\n",
        "even if a signature is present, OCR often misreads handwritten names like \"Gabe Dee\" or \"John Smith\" due to:\n",
        "\n",
        "* Inconsistent handwriting\n",
        "\n",
        "* Stylized script fonts\n",
        "\n",
        "* Noise, blur, or compression artifacts\n",
        "\n"
      ],
      "metadata": {
        "id": "NEpvOuiodSwc"
      }
    }
  ]
}